{
 "cells": [
  {
   "cell_type": "markdown",
   "metadata": {},
   "source": [
    "# U.S. Medical Insurance Costs"
   ]
  },
  {
   "cell_type": "code",
   "execution_count": 49,
   "metadata": {},
   "outputs": [
    {
     "data": {
      "text/html": [
       "<div>\n",
       "<style scoped>\n",
       "    .dataframe tbody tr th:only-of-type {\n",
       "        vertical-align: middle;\n",
       "    }\n",
       "\n",
       "    .dataframe tbody tr th {\n",
       "        vertical-align: top;\n",
       "    }\n",
       "\n",
       "    .dataframe thead th {\n",
       "        text-align: right;\n",
       "    }\n",
       "</style>\n",
       "<table border=\"1\" class=\"dataframe\">\n",
       "  <thead>\n",
       "    <tr style=\"text-align: right;\">\n",
       "      <th></th>\n",
       "      <th>age</th>\n",
       "      <th>sex</th>\n",
       "      <th>bmi</th>\n",
       "      <th>children</th>\n",
       "      <th>smoker</th>\n",
       "      <th>region</th>\n",
       "      <th>charges</th>\n",
       "    </tr>\n",
       "  </thead>\n",
       "  <tbody>\n",
       "    <tr>\n",
       "      <th>0</th>\n",
       "      <td>19</td>\n",
       "      <td>female</td>\n",
       "      <td>27.90</td>\n",
       "      <td>0</td>\n",
       "      <td>yes</td>\n",
       "      <td>southwest</td>\n",
       "      <td>16884.92</td>\n",
       "    </tr>\n",
       "    <tr>\n",
       "      <th>1</th>\n",
       "      <td>18</td>\n",
       "      <td>male</td>\n",
       "      <td>33.77</td>\n",
       "      <td>1</td>\n",
       "      <td>no</td>\n",
       "      <td>southeast</td>\n",
       "      <td>1725.55</td>\n",
       "    </tr>\n",
       "    <tr>\n",
       "      <th>2</th>\n",
       "      <td>28</td>\n",
       "      <td>male</td>\n",
       "      <td>33.00</td>\n",
       "      <td>3</td>\n",
       "      <td>no</td>\n",
       "      <td>southeast</td>\n",
       "      <td>4449.46</td>\n",
       "    </tr>\n",
       "    <tr>\n",
       "      <th>3</th>\n",
       "      <td>33</td>\n",
       "      <td>male</td>\n",
       "      <td>22.70</td>\n",
       "      <td>0</td>\n",
       "      <td>no</td>\n",
       "      <td>northwest</td>\n",
       "      <td>21984.47</td>\n",
       "    </tr>\n",
       "    <tr>\n",
       "      <th>4</th>\n",
       "      <td>32</td>\n",
       "      <td>male</td>\n",
       "      <td>28.88</td>\n",
       "      <td>0</td>\n",
       "      <td>no</td>\n",
       "      <td>northwest</td>\n",
       "      <td>3866.86</td>\n",
       "    </tr>\n",
       "  </tbody>\n",
       "</table>\n",
       "</div>"
      ],
      "text/plain": [
       "   age     sex   bmi  children smoker     region  charges\n",
       "0   19  female 27.90         0    yes  southwest 16884.92\n",
       "1   18    male 33.77         1     no  southeast  1725.55\n",
       "2   28    male 33.00         3     no  southeast  4449.46\n",
       "3   33    male 22.70         0     no  northwest 21984.47\n",
       "4   32    male 28.88         0     no  northwest  3866.86"
      ]
     },
     "execution_count": 49,
     "metadata": {},
     "output_type": "execute_result"
    }
   ],
   "source": [
    "import csv\n",
    "import pandas as pd\n",
    "\n",
    "csv_file = 'insurance.csv'\n",
    "pd.set_option('display.float_format','{:.2f}'.format)\n",
    "\n",
    "insurance_info = pd.read_csv(csv_file)\n",
    "insurance_info.head()\n",
    "\n"
   ]
  },
  {
   "cell_type": "code",
   "execution_count": 50,
   "metadata": {},
   "outputs": [
    {
     "name": "stdout",
     "output_type": "stream",
     "text": [
      "sex\n",
      "male      676\n",
      "female    662\n",
      "dtype: int64\n"
     ]
    }
   ],
   "source": [
    "female_male_counts = insurance_info.value_counts('sex')\n",
    "\n",
    "print(female_male_counts)"
   ]
  },
  {
   "cell_type": "code",
   "execution_count": 51,
   "metadata": {},
   "outputs": [
    {
     "name": "stdout",
     "output_type": "stream",
     "text": [
      "sex\n",
      "female   30.38\n",
      "male     30.94\n",
      "Name: bmi, dtype: float64\n"
     ]
    }
   ],
   "source": [
    "mean_bmi_by_sex = insurance_info.groupby('sex')['bmi'].mean()\n",
    "print(mean_bmi_by_sex)"
   ]
  },
  {
   "cell_type": "code",
   "execution_count": 52,
   "metadata": {},
   "outputs": [
    {
     "name": "stdout",
     "output_type": "stream",
     "text": [
      "sex     smoker\n",
      "female  no        547\n",
      "        yes       115\n",
      "male    no        517\n",
      "        yes       159\n",
      "Name: smoker, dtype: int64\n",
      "no     1064\n",
      "yes     274\n",
      "Name: smoker, dtype: int64\n"
     ]
    }
   ],
   "source": [
    "smoker_status_by_sex = insurance_info.groupby('sex')['smoker'].value_counts()\n",
    "smoker_status = insurance_info['smoker'].value_counts()\n",
    "\n",
    "print(smoker_status_by_sex)\n",
    "print(smoker_status)"
   ]
  },
  {
   "cell_type": "code",
   "execution_count": 61,
   "metadata": {},
   "outputs": [
    {
     "name": "stdout",
     "output_type": "stream",
     "text": [
      "sex\n",
      "female   12569.58\n",
      "male     13956.75\n",
      "Name: charges, dtype: float64\n",
      "13270.42\n",
      "63770.43\n",
      "1121.87\n"
     ]
    }
   ],
   "source": [
    "mean_charges_by_sex = insurance_info.groupby('sex')['charges'].mean()\n",
    "mean_charges = insurance_info['charges'].mean()\n",
    "max_charge = insurance_info['charges'].max()\n",
    "min_charge = insurance_info['charges'].min()\n",
    "\n",
    "print(mean_charges_by_sex)\n",
    "print(\"{:.2f}\".format(mean_charges))\n",
    "print(\"{:.2f}\".format(max_charge))\n",
    "print(\"{:.2f}\".format(min_charge))"
   ]
  },
  {
   "cell_type": "code",
   "execution_count": 59,
   "metadata": {},
   "outputs": [
    {
     "name": "stdout",
     "output_type": "stream",
     "text": [
      "smoker\n",
      "no     8434.27\n",
      "yes   32050.23\n",
      "Name: charges, dtype: float64\n",
      "smoker\n",
      "no    36910.61\n",
      "yes   63770.43\n",
      "Name: charges, dtype: float64\n",
      "smoker\n",
      "no     1121.87\n",
      "yes   12829.46\n",
      "Name: charges, dtype: float64\n"
     ]
    }
   ],
   "source": [
    "mean_charges_smoker = insurance_info.groupby('smoker')['charges'].mean()\n",
    "max_charges_smoker = insurance_info.groupby('smoker')['charges'].max()\n",
    "min_charges_smoker = insurance_info.groupby('smoker')['charges'].min()\n",
    "\n",
    "print(mean_charges_smoker)\n",
    "print(max_charges_smoker)\n",
    "print(min_charges_smoker)"
   ]
  },
  {
   "cell_type": "code",
   "execution_count": 66,
   "metadata": {},
   "outputs": [
    {
     "name": "stdout",
     "output_type": "stream",
     "text": [
      "1.09\n",
      "5\n",
      "0\n"
     ]
    }
   ],
   "source": [
    "mean_children = insurance_info['children'].mean()\n",
    "max_children = insurance_info['children'].max()\n",
    "min_children = insurance_info['children'].min()\n",
    "\n",
    "print(\"{:.2f}\".format(mean_children))\n",
    "print(max_children)\n",
    "print(min_children)"
   ]
  },
  {
   "cell_type": "code",
   "execution_count": 65,
   "metadata": {},
   "outputs": [
    {
     "name": "stdout",
     "output_type": "stream",
     "text": [
      "sex\n",
      "female   1.07\n",
      "male     1.12\n",
      "Name: children, dtype: float64\n"
     ]
    }
   ],
   "source": [
    "mean_children_by_sex = insurance_info.groupby('sex')['children'].mean()\n",
    "print(mean_children_by_sex)"
   ]
  },
  {
   "cell_type": "code",
   "execution_count": null,
   "metadata": {},
   "outputs": [],
   "source": [
    "mean_charges_by_sex_region = insurance_info.groupby(['sex','region'])['charges'].mean()"
   ]
  }
 ],
 "metadata": {
  "kernelspec": {
   "display_name": "Python 3",
   "language": "python",
   "name": "python3"
  },
  "language_info": {
   "codemirror_mode": {
    "name": "ipython",
    "version": 3
   },
   "file_extension": ".py",
   "mimetype": "text/x-python",
   "name": "python",
   "nbconvert_exporter": "python",
   "pygments_lexer": "ipython3",
   "version": "3.10.9"
  },
  "vscode": {
   "interpreter": {
    "hash": "d22c7248f8386920b9e801aa325250b6f3fb33caaf7556a3672f864bbeb79a88"
   }
  }
 },
 "nbformat": 4,
 "nbformat_minor": 4
}
